{
 "cells": [
  {
   "cell_type": "code",
   "execution_count": 2,
   "metadata": {},
   "outputs": [],
   "source": [
    "#To load automatically updates from libraries without re-running import cells\n",
    "%load_ext autoreload\n",
    "%autoreload 2"
   ]
  },
  {
   "cell_type": "code",
   "execution_count": null,
   "metadata": {},
   "outputs": [
    {
     "name": "stdout",
     "output_type": "stream",
     "text": [
      "[{'color': [0, 255, 0], 'coords_data': (49, 25, 100, 348), 'label': 'person', 'confidence': 0.9129454566308621}, {'color': [0, 255, 0], 'coords_data': (178, 181, 177, 181), 'label': 'dog', 'confidence': 0.9691790398204049}]\n"
     ]
    }
   ],
   "source": [
    "import cv2\n",
    "import numpy as np\n",
    "from multi_shape_detector import MultiShapeDetector\n",
    "from segmentation_utils import draw_detection_bound_boxes\n",
    "from segmentation_utils import get_clusters_from_grayscale_image\n",
    "\n",
    "# Load the test image\n",
    "image = cv2.imread(f\"man_with_dog_and_square.png\", cv2.IMREAD_GRAYSCALE)\n",
    "\n",
    "# Extraxct the object pixels from image\n",
    "grouped_clusters = get_clusters_from_grayscale_image(image)\n",
    "\n",
    "\n",
    "# Define human shape image for detector init\n",
    "human_shape_image = cv2.imread(f\"human_shape.png\", cv2.IMREAD_GRAYSCALE)\n",
    "human_detect_params = {\n",
    "    \"label\": \"person\",\n",
    "    \"detect_thresh\": 0.75,\n",
    "    \"sigm_params\": (0.7, 10),\n",
    "}\n",
    "\n",
    "# Define dog shape image for detector init\n",
    "dog_shape_image = cv2.imread(f\"dog_shape.png\", cv2.IMREAD_GRAYSCALE)\n",
    "dog_detect_params = {\n",
    "    \"label\": \"dog\",\n",
    "    \"detect_thresh\": 0.75,\n",
    "    \"sigm_params\": (0.7, 10),\n",
    "}\n",
    "\n",
    "# Init multi-shape detector\n",
    "multi_shape_detector = MultiShapeDetector(\n",
    "    [human_shape_image, dog_shape_image], [human_detect_params, dog_detect_params]\n",
    ")\n",
    "\n",
    "# Testing pixel clusters \n",
    "detections_data = []\n",
    "for cluster in grouped_clusters:\n",
    "    cluster_box_data = multi_shape_detector.compare(cluster)\n",
    "    if len(cluster_box_data) > 0:\n",
    "        detections_data.append(cluster_box_data)\n",
    "\n",
    "print(detections_data)\n",
    "\n",
    "# Draw detection result boxes on image\n",
    "detect_boxes_image = draw_detection_bound_boxes(image, detections_data)\n",
    "\n",
    "# Display the result\n",
    "cv2.imshow(\"Image\", detect_boxes_image)\n",
    "cv2.waitKey(0)\n",
    "cv2.destroyAllWindows()"
   ]
  },
  {
   "cell_type": "code",
   "execution_count": null,
   "metadata": {},
   "outputs": [],
   "source": []
  }
 ],
 "metadata": {
  "kernelspec": {
   "display_name": "Python 3",
   "language": "python",
   "name": "python3"
  },
  "language_info": {
   "codemirror_mode": {
    "name": "ipython",
    "version": 3
   },
   "file_extension": ".py",
   "mimetype": "text/x-python",
   "name": "python",
   "nbconvert_exporter": "python",
   "pygments_lexer": "ipython3",
   "version": "3.10.12"
  }
 },
 "nbformat": 4,
 "nbformat_minor": 2
}
